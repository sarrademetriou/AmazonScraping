{
 "cells": [
  {
   "cell_type": "code",
   "execution_count": 1,
   "id": "680793e0",
   "metadata": {},
   "outputs": [],
   "source": [
    "# Import Libraries \n",
    "\n",
    "from bs4 import BeautifulSoup \n",
    "import requests\n",
    "import time\n",
    "import smtplib   #sends emails to self\n",
    "import datetime\n",
    "\n"
   ]
  },
  {
   "cell_type": "code",
   "execution_count": 33,
   "id": "98bf682a",
   "metadata": {},
   "outputs": [
    {
     "name": "stdout",
     "output_type": "stream",
     "text": [
      "\n",
      "            TAMAGOTCHI 42931NP Digital Pet, Multicolor\n",
      "           \n",
      "\n",
      "\n",
      "\n",
      "\n",
      "                       £24.79\n",
      "                      \n",
      "\n",
      "\n",
      "                        £\n",
      "                       \n",
      "\n",
      "                        24\n",
      "                        \n",
      "                         .\n",
      "                        \n",
      "\n",
      "\n",
      "                        79\n",
      "                       \n",
      "\n",
      "\n",
      "\n",
      "\n"
     ]
    }
   ],
   "source": [
    " # Connect to Website\n",
    "    \n",
    "URL = 'https://www.amazon.co.uk/TAMAGOTCHI-42931NP-Digital-Pet-Multicolor/dp/B09R84XDXY/ref=pd_ybh_a_sccl_30/257-9575419-5158533?pd_rd_w=n6mPi&pf_rd_p=e7ec8387-a3b2-4043-a83c-6854b6e0ff64&pf_rd_r=V5R9KRJ30EPZDNGAZ3R2&pd_rd_r=612e88b1-a726-4c34-903a-259e8a781041&pd_rd_wg=StUbi&pd_rd_i=B09R84XDXY&psc=1'\n",
    "    \n",
    "headers = {\"User-Agent\": \"Mozilla/5.0 (Macintosh; Intel Mac OS X 10_15_7) AppleWebKit/537.36 (KHTML, like Gecko) Chrome/101.0.4951.54 Safari/537.36\", \"Accept-Encoding\":\"gzip, deflate\", \"Accept\":\"text/html,application/xhtml+xml,application/xml;q=0.9,*/*;q=0.8\", \"DNT\":\"1\",\"Connection\":\"close\", \"Upgrade-Insecure-Requests\":\"1\"}\n",
    "\n",
    "page = requests.get(URL, headers = headers)\n",
    "\n",
    "\n",
    "soup1 = BeautifulSoup(page.content, 'html.parser')\n",
    "\n",
    "soup2 = BeautifulSoup(soup1.prettify(), 'html.parser')\n",
    "\n",
    "title = soup2.find(id='productTitle').get_text()\n",
    "\n",
    "# price = soup2.find(id='corePriceDisplay_desktop_feature_div').get_text()\n",
    "price = soup2.find(id='corePrice_feature_div').get_text()\n",
    "\n",
    "print(title)\n",
    "print(price)\n"
   ]
  },
  {
   "cell_type": "code",
   "execution_count": 41,
   "id": "4b1b39c9",
   "metadata": {},
   "outputs": [
    {
     "name": "stdout",
     "output_type": "stream",
     "text": [
      "TAMAGOTCHI 42931NP Digital Pet, Multicolor\n",
      "24.79\n"
     ]
    }
   ],
   "source": [
    "# Cleaning:\n",
    "title = title.strip()\n",
    "price = price.strip()[1:6]\n",
    "\n",
    "print(title)\n",
    "print(price)"
   ]
  },
  {
   "cell_type": "code",
   "execution_count": 45,
   "id": "e3cc3f16",
   "metadata": {},
   "outputs": [],
   "source": [
    "import csv \n",
    "\n",
    "header = ['Product', 'Price', 'Date']\n",
    "data = [title, price, today]\n",
    "\n",
    "with open('AmazonScraper.csv', 'w', newline='', encoding='UTF8') as f:\n",
    "    \n",
    "    writer = csv.writer(f)\n",
    "    writer.writerow(header)\n",
    "    writer.writerow(data)\n",
    "    \n"
   ]
  },
  {
   "cell_type": "code",
   "execution_count": 46,
   "id": "368219c4",
   "metadata": {},
   "outputs": [
    {
     "name": "stdout",
     "output_type": "stream",
     "text": [
      "2022-05-08\n"
     ]
    }
   ],
   "source": [
    "# DateTime Stamp\n",
    "\n",
    "today = datetime.date.today()\n",
    "\n",
    "print(today)\n"
   ]
  },
  {
   "cell_type": "code",
   "execution_count": 58,
   "id": "7292cf59",
   "metadata": {},
   "outputs": [
    {
     "name": "stdout",
     "output_type": "stream",
     "text": [
      "                                      Product  Price        Date\n",
      "0  TAMAGOTCHI 42931NP Digital Pet, Multicolor  24.79  2022-05-08\n"
     ]
    }
   ],
   "source": [
    "import pandas as pd\n",
    "\n",
    "df = pd.read_csv(r'/Users/sarrademetriou/AmazonScraper.csv')\n",
    "print(df)"
   ]
  },
  {
   "cell_type": "code",
   "execution_count": 59,
   "id": "130e2446",
   "metadata": {},
   "outputs": [],
   "source": [
    "# Append data to csv\n",
    "\n",
    "with open('AmazonScraper.csv', 'a+', newline='', encoding='UTF8') as f:\n",
    "    \n",
    "    writer = csv.writer(f)\n",
    "    writer.writerow(data)\n",
    "    \n",
    "\n",
    "\n",
    "    "
   ]
  },
  {
   "cell_type": "code",
   "execution_count": 83,
   "id": "775a1707",
   "metadata": {},
   "outputs": [],
   "source": [
    "# Send Mail function\n",
    "\n",
    "def send_mail():\n",
    "    server = smtplib.SMTP_SSL('smtp.gmail.com',465)\n",
    "    server.ehlo()\n",
    "    server.login('sarrademetriou@gmail.com','xxxxxxxxxxx')\n",
    "    \n",
    "    subject = \"The Tamagotchi you need has gone below £20! Get it now!!!\"\n",
    "    body = \"Hi Sarra, The limited edition Tamagotchi you've been looking at has now gone below £20! Go adopt your Tamagotchi now! Link here: https://www.amazon.co.uk/TAMAGOTCHI-42931NP-Digital-Pet-Multicolor/dp/B09R84XDXY/ref=pd_ybh_a_sccl_30/257-9575419-5158533?pd_rd_w=n6mPi&pf_rd_p=e7ec8387-a3b2-4043-a83c-6854b6e0ff64&pf_rd_r=V5R9KRJ30EPZDNGAZ3R2&pd_rd_r=612e88b1-a726-4c34-903a-259e8a781041&pd_rd_wg=StUbi&pd_rd_i=B09R84XDXY&psc=1\"\n",
    "   \n",
    "    msg = f\"Subject: {subject}\\n\\n{body}\"\n",
    "    \n",
    "    server.sendmail(\n",
    "        'sarrademetriou@gmail.com',\n",
    "        msg\n",
    "    )\n",
    "    \n",
    "    smtp_server.close()\n",
    "    "
   ]
  },
  {
   "cell_type": "code",
   "execution_count": 74,
   "id": "6393b807",
   "metadata": {},
   "outputs": [],
   "source": [
    "\n",
    "# Check price\n",
    "\n",
    "\n",
    "def checkprice():\n",
    "\n",
    "    URL = 'https://www.amazon.co.uk/TAMAGOTCHI-42931NP-Digital-Pet-Multicolor/dp/B09R84XDXY/ref=pd_ybh_a_sccl_30/257-9575419-5158533?pd_rd_w=n6mPi&pf_rd_p=e7ec8387-a3b2-4043-a83c-6854b6e0ff64&pf_rd_r=V5R9KRJ30EPZDNGAZ3R2&pd_rd_r=612e88b1-a726-4c34-903a-259e8a781041&pd_rd_wg=StUbi&pd_rd_i=B09R84XDXY&psc=1'\n",
    "    \n",
    "    headers = {\"User-Agent\": \"Mozilla/5.0 (Macintosh; Intel Mac OS X 10_15_7) AppleWebKit/537.36 (KHTML, like Gecko) Chrome/101.0.4951.54 Safari/537.36\", \"Accept-Encoding\":\"gzip, deflate\", \"Accept\":\"text/html,application/xhtml+xml,application/xml;q=0.9,*/*;q=0.8\", \"DNT\":\"1\",\"Connection\":\"close\", \"Upgrade-Insecure-Requests\":\"1\"}\n",
    "\n",
    "    page = requests.get(URL, headers = headers)\n",
    "\n",
    "    soup1 = BeautifulSoup(page.content, 'html.parser')\n",
    "\n",
    "    soup2 = BeautifulSoup(soup1.prettify(), 'html.parser')\n",
    "\n",
    "    title = soup2.find(id='productTitle').get_text()\n",
    "\n",
    "    price = soup2.find(id='corePrice_feature_div').get_text()\n",
    "\n",
    "    title = title.strip()\n",
    "    price = price.strip()[1:6]\n",
    "\n",
    "    import datetime\n",
    "    \n",
    "    today = datetime.date.today()\n",
    "\n",
    "    import csv \n",
    "\n",
    "    header = ['Product', 'Price', 'Date']\n",
    "    data = [title, price, today]\n",
    "\n",
    "\n",
    "    with open('AmazonScraper.csv', 'a+', newline='', encoding='UTF8') as f:\n",
    "\n",
    "        writer = csv.writer(f)\n",
    "        writer.writerow(data)\n",
    "        \n",
    "        \n",
    "    if(price < 20.99):\n",
    "        send_mail()\n",
    "    \n",
    "    "
   ]
  },
  {
   "cell_type": "code",
   "execution_count": 77,
   "id": "69e1d151",
   "metadata": {},
   "outputs": [
    {
     "ename": "KeyboardInterrupt",
     "evalue": "",
     "output_type": "error",
     "traceback": [
      "\u001b[0;31m---------------------------------------------------------------------------\u001b[0m",
      "\u001b[0;31mKeyboardInterrupt\u001b[0m                         Traceback (most recent call last)",
      "\u001b[0;32m/var/folders/dg/vgx3xnjs2hn5vzv_513srzwh0000gn/T/ipykernel_7403/461737037.py\u001b[0m in \u001b[0;36m<module>\u001b[0;34m\u001b[0m\n\u001b[1;32m      1\u001b[0m \u001b[0;32mwhile\u001b[0m\u001b[0;34m(\u001b[0m\u001b[0;32mTrue\u001b[0m\u001b[0;34m)\u001b[0m\u001b[0;34m:\u001b[0m\u001b[0;34m\u001b[0m\u001b[0;34m\u001b[0m\u001b[0m\n\u001b[1;32m      2\u001b[0m     \u001b[0mcheckprice\u001b[0m\u001b[0;34m(\u001b[0m\u001b[0;34m)\u001b[0m\u001b[0;34m\u001b[0m\u001b[0;34m\u001b[0m\u001b[0m\n\u001b[0;32m----> 3\u001b[0;31m     \u001b[0mtime\u001b[0m\u001b[0;34m.\u001b[0m\u001b[0msleep\u001b[0m\u001b[0;34m(\u001b[0m\u001b[0;36m5\u001b[0m\u001b[0;34m)\u001b[0m\u001b[0;34m\u001b[0m\u001b[0;34m\u001b[0m\u001b[0m\n\u001b[0m",
      "\u001b[0;31mKeyboardInterrupt\u001b[0m: "
     ]
    }
   ],
   "source": [
    "while(True):\n",
    "    checkprice()\n",
    "    time.sleep(86400)"
   ]
  },
  {
   "cell_type": "code",
   "execution_count": 78,
   "id": "5dc0ae58",
   "metadata": {},
   "outputs": [
    {
     "name": "stdout",
     "output_type": "stream",
     "text": [
      "                                       Product  Price        Date\n",
      "0   TAMAGOTCHI 42931NP Digital Pet, Multicolor  24.79  2022-05-08\n",
      "1   TAMAGOTCHI 42931NP Digital Pet, Multicolor  24.79  2022-05-08\n",
      "2   TAMAGOTCHI 42931NP Digital Pet, Multicolor  24.79  2022-05-08\n",
      "3   TAMAGOTCHI 42931NP Digital Pet, Multicolor  24.79  2022-05-08\n",
      "4   TAMAGOTCHI 42931NP Digital Pet, Multicolor  24.79  2022-05-08\n",
      "5   TAMAGOTCHI 42931NP Digital Pet, Multicolor  24.79  2022-05-08\n",
      "6   TAMAGOTCHI 42931NP Digital Pet, Multicolor  24.79  2022-05-08\n",
      "7   TAMAGOTCHI 42931NP Digital Pet, Multicolor  24.79  2022-05-08\n",
      "8   TAMAGOTCHI 42931NP Digital Pet, Multicolor  24.79  2022-05-08\n",
      "9   TAMAGOTCHI 42931NP Digital Pet, Multicolor  24.79  2022-05-08\n",
      "10  TAMAGOTCHI 42931NP Digital Pet, Multicolor  24.79  2022-05-08\n",
      "11  TAMAGOTCHI 42931NP Digital Pet, Multicolor  24.79  2022-05-08\n"
     ]
    }
   ],
   "source": [
    "import pandas as pd\n",
    "\n",
    "df = pd.read_csv(r'/Users/sarrademetriou/AmazonScraper.csv')\n",
    "print(df)"
   ]
  },
  {
   "cell_type": "code",
   "execution_count": null,
   "id": "68d965f8",
   "metadata": {},
   "outputs": [],
   "source": [
    " "
   ]
  },
  {
   "cell_type": "code",
   "execution_count": null,
   "id": "784b4c4c",
   "metadata": {},
   "outputs": [],
   "source": []
  },
  {
   "cell_type": "code",
   "execution_count": null,
   "id": "4198f520",
   "metadata": {},
   "outputs": [],
   "source": []
  }
 ],
 "metadata": {
  "kernelspec": {
   "display_name": "Python 3 (ipykernel)",
   "language": "python",
   "name": "python3"
  },
  "language_info": {
   "codemirror_mode": {
    "name": "ipython",
    "version": 3
   },
   "file_extension": ".py",
   "mimetype": "text/x-python",
   "name": "python",
   "nbconvert_exporter": "python",
   "pygments_lexer": "ipython3",
   "version": "3.9.7"
  }
 },
 "nbformat": 4,
 "nbformat_minor": 5
}
